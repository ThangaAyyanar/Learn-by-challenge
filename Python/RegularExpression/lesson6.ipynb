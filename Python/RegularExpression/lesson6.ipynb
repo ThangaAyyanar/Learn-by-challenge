{
 "metadata": {
  "language_info": {
   "codemirror_mode": {
    "name": "ipython",
    "version": 3
   },
   "file_extension": ".py",
   "mimetype": "text/x-python",
   "name": "python",
   "nbconvert_exporter": "python",
   "pygments_lexer": "ipython3",
   "version": "3.8.5-final"
  },
  "orig_nbformat": 2,
  "kernelspec": {
   "name": "Python 3.8.5 64-bit",
   "display_name": "Python 3.8.5 64-bit",
   "metadata": {
    "interpreter": {
     "hash": "1ee38ef4a5a9feb55287fd749643f13d043cb0a7addaab2a9c224cbe137c0062"
    }
   }
  }
 },
 "nbformat": 4,
 "nbformat_minor": 2,
 "cells": [
  {
   "cell_type": "code",
   "execution_count": 1,
   "metadata": {},
   "outputs": [],
   "source": [
    "import re"
   ]
  },
  {
   "cell_type": "code",
   "execution_count": 2,
   "metadata": {},
   "outputs": [
    {
     "output_type": "execute_result",
     "data": {
      "text/plain": [
       "<re.Match object; span=(0, 3), match='abc'>"
      ]
     },
     "metadata": {},
     "execution_count": 2
    }
   ],
   "source": [
    "re.search(r'ab*c','abc ac adc abbbc')"
   ]
  },
  {
   "cell_type": "code",
   "execution_count": 3,
   "metadata": {},
   "outputs": [
    {
     "output_type": "execute_result",
     "data": {
      "text/plain": [
       "<re.Match object; span=(0, 7), match='1233224'>"
      ]
     },
     "metadata": {},
     "execution_count": 3
    }
   ],
   "source": [
    "re.fullmatch(r'1(2|3)*4','1233224')"
   ]
  },
  {
   "cell_type": "code",
   "execution_count": 4,
   "metadata": {},
   "outputs": [],
   "source": [
    "sentence = 'that is quite a fabricated tale'\n",
    "m = re.search(r'q.*?t', sentence)"
   ]
  },
  {
   "cell_type": "code",
   "execution_count": 5,
   "metadata": {},
   "outputs": [
    {
     "output_type": "execute_result",
     "data": {
      "text/plain": [
       "(8, 12)"
      ]
     },
     "metadata": {},
     "execution_count": 5
    }
   ],
   "source": [
    "m.span()"
   ]
  },
  {
   "cell_type": "code",
   "execution_count": 6,
   "metadata": {},
   "outputs": [
    {
     "output_type": "execute_result",
     "data": {
      "text/plain": [
       "8"
      ]
     },
     "metadata": {},
     "execution_count": 6
    }
   ],
   "source": [
    "m.span()[0]"
   ]
  },
  {
   "cell_type": "code",
   "execution_count": 7,
   "metadata": {},
   "outputs": [
    {
     "output_type": "execute_result",
     "data": {
      "text/plain": [
       "(8, 12)"
      ]
     },
     "metadata": {},
     "execution_count": 7
    }
   ],
   "source": [
    "re.search(r'q.*?t', sentence).span()"
   ]
  },
  {
   "cell_type": "code",
   "execution_count": 8,
   "metadata": {},
   "outputs": [
    {
     "output_type": "execute_result",
     "data": {
      "text/plain": [
       "<re.Match object; span=(1, 9), match='bc ac ad'>"
      ]
     },
     "metadata": {},
     "execution_count": 8
    }
   ],
   "source": [
    "re.search(r'b.*d','abc ac adc abbbc')"
   ]
  },
  {
   "cell_type": "code",
   "execution_count": 9,
   "metadata": {},
   "outputs": [
    {
     "output_type": "execute_result",
     "data": {
      "text/plain": [
       "'bc ac ad'"
      ]
     },
     "metadata": {},
     "execution_count": 9
    }
   ],
   "source": [
    "re.search(r'b.*d','abc ac adc abbbc')[0]"
   ]
  },
  {
   "cell_type": "code",
   "execution_count": 10,
   "metadata": {},
   "outputs": [
    {
     "output_type": "execute_result",
     "data": {
      "text/plain": [
       "'bc ac ad'"
      ]
     },
     "metadata": {},
     "execution_count": 10
    }
   ],
   "source": [
    "re.search(r'b.*d','abc ac adc abbbc').group(0)"
   ]
  },
  {
   "cell_type": "code",
   "execution_count": 11,
   "metadata": {},
   "outputs": [],
   "source": [
    "m = re.fullmatch(r'a(.*?) (.*)d(.*)c','abc ac adc abbbc')"
   ]
  },
  {
   "cell_type": "code",
   "execution_count": 12,
   "metadata": {},
   "outputs": [
    {
     "output_type": "execute_result",
     "data": {
      "text/plain": [
       "<re.Match object; span=(0, 16), match='abc ac adc abbbc'>"
      ]
     },
     "metadata": {},
     "execution_count": 12
    }
   ],
   "source": [
    "m"
   ]
  },
  {
   "cell_type": "code",
   "execution_count": 13,
   "metadata": {
    "tags": []
   },
   "outputs": [
    {
     "output_type": "stream",
     "name": "stdout",
     "text": [
      "First group abc ac adc abbbc\nSecond group bc\nThird group ac a\n"
     ]
    }
   ],
   "source": [
    "print(f\"First group {m[0]}\")\n",
    "print(f\"Second group {m[1]}\")\n",
    "print(f\"Third group {m[2]}\")"
   ]
  },
  {
   "cell_type": "code",
   "execution_count": 14,
   "metadata": {},
   "outputs": [
    {
     "output_type": "execute_result",
     "data": {
      "text/plain": [
       "['abc ac adc abbbc', 'bc', 'ac a', 'c abbb']"
      ]
     },
     "metadata": {},
     "execution_count": 14
    }
   ],
   "source": [
    "[m[i] for i in range(4)]"
   ]
  },
  {
   "cell_type": "code",
   "execution_count": 15,
   "metadata": {},
   "outputs": [
    {
     "output_type": "execute_result",
     "data": {
      "text/plain": [
       "('c abbb', 'bc')"
      ]
     },
     "metadata": {},
     "execution_count": 15
    }
   ],
   "source": [
    "m.group(3,1)"
   ]
  },
  {
   "cell_type": "code",
   "execution_count": 16,
   "metadata": {},
   "outputs": [
    {
     "output_type": "execute_result",
     "data": {
      "text/plain": [
       "('bc', 'ac a', 'c abbb')"
      ]
     },
     "metadata": {},
     "execution_count": 16
    }
   ],
   "source": [
    "m.groups()"
   ]
  },
  {
   "cell_type": "code",
   "execution_count": 17,
   "metadata": {},
   "outputs": [],
   "source": [
    "m = re.search(r'w(.*)me','awesome')"
   ]
  },
  {
   "cell_type": "code",
   "execution_count": 18,
   "metadata": {},
   "outputs": [
    {
     "output_type": "execute_result",
     "data": {
      "text/plain": [
       "(1, 7)"
      ]
     },
     "metadata": {},
     "execution_count": 18
    }
   ],
   "source": [
    "m.span()"
   ]
  },
  {
   "cell_type": "code",
   "execution_count": 19,
   "metadata": {},
   "outputs": [
    {
     "output_type": "execute_result",
     "data": {
      "text/plain": [
       "(2, 5)"
      ]
     },
     "metadata": {},
     "execution_count": 19
    }
   ],
   "source": [
    "m.span(1)"
   ]
  },
  {
   "cell_type": "code",
   "execution_count": 20,
   "metadata": {},
   "outputs": [
    {
     "output_type": "execute_result",
     "data": {
      "text/plain": [
       "1"
      ]
     },
     "metadata": {},
     "execution_count": 20
    }
   ],
   "source": [
    "m.start()"
   ]
  },
  {
   "cell_type": "code",
   "execution_count": 21,
   "metadata": {},
   "outputs": [
    {
     "output_type": "execute_result",
     "data": {
      "text/plain": [
       "5"
      ]
     },
     "metadata": {},
     "execution_count": 21
    }
   ],
   "source": [
    "m.end(1)"
   ]
  },
  {
   "cell_type": "code",
   "execution_count": 22,
   "metadata": {},
   "outputs": [],
   "source": [
    "pat = re.compile(r'hi.*bye')\n",
    "m = pat.search('This is goodbye then',1,15)"
   ]
  },
  {
   "cell_type": "code",
   "execution_count": 23,
   "metadata": {},
   "outputs": [
    {
     "output_type": "execute_result",
     "data": {
      "text/plain": [
       "1"
      ]
     },
     "metadata": {},
     "execution_count": 23
    }
   ],
   "source": [
    "m.pos"
   ]
  },
  {
   "cell_type": "code",
   "execution_count": 24,
   "metadata": {},
   "outputs": [
    {
     "output_type": "execute_result",
     "data": {
      "text/plain": [
       "15"
      ]
     },
     "metadata": {},
     "execution_count": 24
    }
   ],
   "source": [
    "m.endpos"
   ]
  },
  {
   "cell_type": "code",
   "execution_count": 25,
   "metadata": {},
   "outputs": [
    {
     "output_type": "execute_result",
     "data": {
      "text/plain": [
       "re.compile(r'hi.*bye', re.UNICODE)"
      ]
     },
     "metadata": {},
     "execution_count": 25
    }
   ],
   "source": [
    "m.re"
   ]
  },
  {
   "cell_type": "code",
   "execution_count": 26,
   "metadata": {},
   "outputs": [
    {
     "output_type": "execute_result",
     "data": {
      "text/plain": [
       "'This is goodbye then'"
      ]
     },
     "metadata": {},
     "execution_count": 26
    }
   ],
   "source": [
    "m.string"
   ]
  },
  {
   "cell_type": "code",
   "execution_count": 27,
   "metadata": {},
   "outputs": [],
   "source": [
    "# Assignment expressions\n",
    "if m := re.search(r'(.*)s','oh!'):\n",
    "    print(m[1])"
   ]
  },
  {
   "cell_type": "code",
   "execution_count": 28,
   "metadata": {
    "tags": []
   },
   "outputs": [
    {
     "output_type": "stream",
     "name": "stdout",
     "text": [
      "awe\n"
     ]
    }
   ],
   "source": [
    "if m := re.search(r'(.*)s','awesome'):\n",
    "    print(m[1])"
   ]
  },
  {
   "cell_type": "code",
   "execution_count": 29,
   "metadata": {},
   "outputs": [],
   "source": [
    "text = ['type: fruit', 'date: 2020/04/28']"
   ]
  },
  {
   "cell_type": "code",
   "execution_count": 30,
   "metadata": {
    "tags": []
   },
   "outputs": [
    {
     "output_type": "stream",
     "name": "stdout",
     "text": [
      "fruit\nmonth: 04,year2020\n"
     ]
    }
   ],
   "source": [
    "for ip in text:\n",
    "    if m := re.search(r'type: (.*)',ip):\n",
    "        print(m[1])\n",
    "    elif m := re.search(r'date: (.*?)/(.*?)/', ip):\n",
    "        print(f'month: {m[2]},year{m[1]}')"
   ]
  },
  {
   "cell_type": "code",
   "execution_count": 31,
   "metadata": {},
   "outputs": [
    {
     "output_type": "execute_result",
     "data": {
      "text/plain": [
       "'A^2 + B^2 - C*3'"
      ]
     },
     "metadata": {},
     "execution_count": 31
    }
   ],
   "source": [
    "# Using functions in replacement section\n",
    "re.sub(r'(a|b)\\^2', lambda m: m[0].upper(),'a^2 + b^2 - C*3')"
   ]
  },
  {
   "cell_type": "code",
   "execution_count": 32,
   "metadata": {},
   "outputs": [
    {
     "output_type": "execute_result",
     "data": {
      "text/plain": [
       "'a^4 + b^4 - C*9'"
      ]
     },
     "metadata": {},
     "execution_count": 32
    }
   ],
   "source": [
    "re.sub(r'2|3',lambda m: str(int(m[0])**2),'a^2 + b^2 - C*3')"
   ]
  },
  {
   "cell_type": "code",
   "execution_count": 33,
   "metadata": {},
   "outputs": [
    {
     "output_type": "execute_result",
     "data": {
      "text/plain": [
       "'9two3four0onetwo'"
      ]
     },
     "metadata": {},
     "execution_count": 33
    }
   ],
   "source": [
    "dict = { '1': 'one', '2': 'two', '4': 'four'}\n",
    "re.sub(r'1|2|4', lambda m: dict[m[0]], '9234012')"
   ]
  },
  {
   "cell_type": "code",
   "execution_count": 34,
   "metadata": {},
   "outputs": [
    {
     "output_type": "execute_result",
     "data": {
      "text/plain": [
       "'XtwoXfourXonetwo'"
      ]
     },
     "metadata": {},
     "execution_count": 34
    }
   ],
   "source": [
    "re.sub(r'0|1|2|3|4|5|6|7|8|9',lambda m: dict.get(m[0], 'X'),'9234012')"
   ]
  },
  {
   "cell_type": "code",
   "execution_count": 35,
   "metadata": {},
   "outputs": [
    {
     "output_type": "execute_result",
     "data": {
      "text/plain": [
       "'tiger cat dog cat tiger'"
      ]
     },
     "metadata": {},
     "execution_count": 35
    }
   ],
   "source": [
    "swap = { 'cat': 'tiger', 'tiger':'cat'}\n",
    "words = 'cat tiger dog tiger cat'\n",
    "\n",
    "re.sub(r'cat|tiger',lambda m: swap[m[0]], words)"
   ]
  },
  {
   "cell_type": "code",
   "execution_count": 36,
   "metadata": {},
   "outputs": [],
   "source": [
    "dict = { 'hand': '1', 'handy': '2', 'handful': '3', 'a^b': '4'}"
   ]
  },
  {
   "cell_type": "code",
   "execution_count": 37,
   "metadata": {},
   "outputs": [],
   "source": [
    "words = sorted(dict.keys(), key=len,reverse=True)"
   ]
  },
  {
   "cell_type": "code",
   "execution_count": 38,
   "metadata": {},
   "outputs": [
    {
     "output_type": "execute_result",
     "data": {
      "text/plain": [
       "['handful', 'handy', 'hand', 'a^b']"
      ]
     },
     "metadata": {},
     "execution_count": 38
    }
   ],
   "source": [
    "words"
   ]
  },
  {
   "cell_type": "code",
   "execution_count": 39,
   "metadata": {},
   "outputs": [
    {
     "output_type": "execute_result",
     "data": {
      "text/plain": [
       "'handful|handy|hand|a\\\\^b'"
      ]
     },
     "metadata": {},
     "execution_count": 39
    }
   ],
   "source": [
    "pat = re.compile('|'.join(re.escape(s) for s in words))\n",
    "pat.pattern"
   ]
  },
  {
   "cell_type": "code",
   "execution_count": 40,
   "metadata": {},
   "outputs": [
    {
     "output_type": "execute_result",
     "data": {
      "text/plain": [
       "'3 1 pin 2 (4)'"
      ]
     },
     "metadata": {},
     "execution_count": 40
    }
   ],
   "source": [
    "pat.sub(lambda m: dict[m[0]], 'handful hand pin handy (a^b)')"
   ]
  },
  {
   "cell_type": "code",
   "execution_count": 41,
   "metadata": {},
   "outputs": [
    {
     "output_type": "execute_result",
     "data": {
      "text/plain": [
       "['abc', 'ac', 'abbc', 'abbbc', 'abbbbbc']"
      ]
     },
     "metadata": {},
     "execution_count": 41
    }
   ],
   "source": [
    "re.findall(r'ab*c','abc ac adc abbc xabbbcz bbb bc abbbbbc')"
   ]
  },
  {
   "cell_type": "code",
   "execution_count": 42,
   "metadata": {},
   "outputs": [
    {
     "output_type": "execute_result",
     "data": {
      "text/plain": [
       "['b', '', 'bb', 'bbb', 'bbbbb']"
      ]
     },
     "metadata": {},
     "execution_count": 42
    }
   ],
   "source": [
    "re.findall(r'a(b*)c','abc ac adc abbc xabbbcz bbb bc abbbbbc')"
   ]
  },
  {
   "cell_type": "code",
   "execution_count": 45,
   "metadata": {},
   "outputs": [
    {
     "output_type": "execute_result",
     "data": {
      "text/plain": [
       "[('2020', '04', '25'), ('1986', 'Mar', '02')]"
      ]
     },
     "metadata": {},
     "execution_count": 45
    }
   ],
   "source": [
    "re.findall(r'(.*?)/(.*?)/(.*?),','2020/04/25,1986/Mar/02,77/12/31')"
   ]
  },
  {
   "cell_type": "code",
   "execution_count": 46,
   "metadata": {},
   "outputs": [
    {
     "output_type": "execute_result",
     "data": {
      "text/plain": [
       "<callable_iterator at 0x10fa36a90>"
      ]
     },
     "metadata": {},
     "execution_count": 46
    }
   ],
   "source": [
    "re.finditer(r'ab+c','abc ac adc abbbc')"
   ]
  },
  {
   "cell_type": "code",
   "execution_count": 47,
   "metadata": {},
   "outputs": [
    {
     "output_type": "stream",
     "name": "stdout",
     "text": [
      "<re.Match object; span=(0, 3), match='abc'>\n<re.Match object; span=(11, 16), match='abbbc'>\n"
     ]
    }
   ],
   "source": [
    "m_iter = re.finditer(r'ab+c','abc ac adc abbbc')\n",
    "for m in m_iter:\n",
    "    print(m)"
   ]
  },
  {
   "cell_type": "code",
   "execution_count": 48,
   "metadata": {},
   "outputs": [
    {
     "output_type": "stream",
     "name": "stdout",
     "text": [
      "ABC\t(0, 3)\nABBBC\t(11, 16)\n"
     ]
    }
   ],
   "source": [
    "m_iter = re.finditer(r'ab+c','abc ac adc abbbc')\n",
    "for m in m_iter:\n",
    "    print(m[0].upper(),m.span(),sep='\\t')"
   ]
  },
  {
   "cell_type": "code",
   "execution_count": 49,
   "metadata": {},
   "outputs": [
    {
     "output_type": "stream",
     "name": "stdout",
     "text": [
      "Hello\tworld\tHey there\nHellosadfdsf\tworldfadsf\tHey therefdsaf\n"
     ]
    }
   ],
   "source": [
    "print(\"Hello\",\"world\",\"Hey there\",sep='\\t')\n",
    "print(\"Hellosadfdsf\",\"worldfadsf\",\"Hey therefdsaf\",sep='\\t')"
   ]
  },
  {
   "cell_type": "code",
   "execution_count": 51,
   "metadata": {},
   "outputs": [
    {
     "output_type": "execute_result",
     "data": {
      "text/plain": [
       "[('2020', '04', '25'), ('1986', 'Mar', '02')]"
      ]
     },
     "metadata": {},
     "execution_count": 51
    }
   ],
   "source": [
    "d = '2020/04/25,1986/Mar/02,77/12/31'\n",
    "m_iter = re.finditer(r'(.*?)/(.*?)/(.*?),',d)\n",
    "[m.groups() for m in m_iter]"
   ]
  },
  {
   "cell_type": "code",
   "execution_count": 52,
   "metadata": {},
   "outputs": [
    {
     "output_type": "execute_result",
     "data": {
      "text/plain": [
       "['2020/04/25', '1986/Mar/02']"
      ]
     },
     "metadata": {},
     "execution_count": 52
    }
   ],
   "source": [
    "m_iter = re.finditer(r'(.*?),',d)\n",
    "[m[1] for m in m_iter]"
   ]
  },
  {
   "cell_type": "code",
   "execution_count": 53,
   "metadata": {},
   "outputs": [
    {
     "output_type": "execute_result",
     "data": {
      "text/plain": [
       "[]"
      ]
     },
     "metadata": {},
     "execution_count": 53
    }
   ],
   "source": [
    "[m[1] for m in m_iter]"
   ]
  },
  {
   "cell_type": "code",
   "execution_count": 54,
   "metadata": {},
   "outputs": [
    {
     "output_type": "execute_result",
     "data": {
      "text/plain": [
       "['3', '5', '6']"
      ]
     },
     "metadata": {},
     "execution_count": 54
    }
   ],
   "source": [
    "#re.split\n",
    "re.split(r'1*4?2','31111111111251111426')"
   ]
  },
  {
   "cell_type": "code",
   "execution_count": 55,
   "metadata": {},
   "outputs": [
    {
     "output_type": "execute_result",
     "data": {
      "text/plain": [
       "['3', '11111111112', '5', '111142', '6']"
      ]
     },
     "metadata": {},
     "execution_count": 55
    }
   ],
   "source": [
    "re.split(r'(1*4?2)','31111111111251111426')"
   ]
  },
  {
   "cell_type": "code",
   "execution_count": 56,
   "metadata": {},
   "outputs": [
    {
     "output_type": "execute_result",
     "data": {
      "text/plain": [
       "['3', '1111111111', '5', '1111', '6']"
      ]
     },
     "metadata": {},
     "execution_count": 56
    }
   ],
   "source": [
    "re.split(r'(1*)4?2','31111111111251111426')"
   ]
  },
  {
   "cell_type": "code",
   "execution_count": 57,
   "metadata": {},
   "outputs": [
    {
     "output_type": "execute_result",
     "data": {
      "text/plain": [
       "['3.14', 'aa', 'ccc', '42']"
      ]
     },
     "metadata": {},
     "execution_count": 57
    }
   ],
   "source": [
    "re.split(r'(a+)b+(c+)','3.14aabccc42')"
   ]
  },
  {
   "cell_type": "code",
   "execution_count": 60,
   "metadata": {},
   "outputs": [
    {
     "output_type": "execute_result",
     "data": {
      "text/plain": [
       "['3', '1111111111', None, '5', '1111', '4', '6']"
      ]
     },
     "metadata": {},
     "execution_count": 60
    }
   ],
   "source": [
    "re.split(r'(1*)(4)?2','31111111111251111426')"
   ]
  },
  {
   "cell_type": "code",
   "execution_count": 61,
   "metadata": {},
   "outputs": [
    {
     "output_type": "execute_result",
     "data": {
      "text/plain": [
       "'HavE a nicE wEEkEnd'"
      ]
     },
     "metadata": {},
     "execution_count": 61
    }
   ],
   "source": [
    "# re.subn\n",
    "greeting = 'Have a nice weekend'\n",
    "re.sub(r'e','E',greeting)"
   ]
  },
  {
   "cell_type": "code",
   "execution_count": 62,
   "metadata": {},
   "outputs": [
    {
     "output_type": "execute_result",
     "data": {
      "text/plain": [
       "('HavE a nicE wEEkEnd', 5)"
      ]
     },
     "metadata": {},
     "execution_count": 62
    }
   ],
   "source": [
    "re.subn(r'e','E',greeting)"
   ]
  },
  {
   "cell_type": "code",
   "execution_count": 63,
   "metadata": {},
   "outputs": [
    {
     "output_type": "execute_result",
     "data": {
      "text/plain": [
       "'cog'"
      ]
     },
     "metadata": {},
     "execution_count": 63
    }
   ],
   "source": [
    "word = 'coffining'\n",
    "while True:\n",
    "    word, cnt = re.subn(r'fin','',word)\n",
    "    if cnt == 0:\n",
    "        break\n",
    "word"
   ]
  },
  {
   "cell_type": "code",
   "execution_count": 64,
   "metadata": {},
   "outputs": [],
   "source": [
    "# Exercise\n",
    "str1 = 'This the biggest fruit you have seen?'\n",
    "str2 = 'Your mission is to read and practice consistently'"
   ]
  },
  {
   "cell_type": "code",
   "execution_count": 73,
   "metadata": {},
   "outputs": [
    {
     "output_type": "execute_result",
     "data": {
      "text/plain": [
       "'is the biggest fruit'"
      ]
     },
     "metadata": {},
     "execution_count": 73
    }
   ],
   "source": [
    "pattern = re.compile(r'is.*t')\n",
    "pattern.search(str1).group()\n"
   ]
  },
  {
   "cell_type": "code",
   "execution_count": 74,
   "metadata": {},
   "outputs": [
    {
     "output_type": "execute_result",
     "data": {
      "text/plain": [
       "'ission is to read and practice consistent'"
      ]
     },
     "metadata": {},
     "execution_count": 74
    }
   ],
   "source": [
    "pattern.search(str2).group()"
   ]
  },
  {
   "cell_type": "code",
   "execution_count": 75,
   "metadata": {},
   "outputs": [],
   "source": [
    "s1 = 'match after the last newline'\n",
    "s2 = 'and then you want to test'\n",
    "s3 = 'this is good bye then'\n",
    "s4 = 'who was there to see?'\n",
    "toMatch = ['is','the','was','to']\n",
    "pattern = re.compile('|'.join([w for w in toMatch]))"
   ]
  },
  {
   "cell_type": "code",
   "execution_count": 78,
   "metadata": {},
   "outputs": [
    {
     "output_type": "execute_result",
     "data": {
      "text/plain": [
       "12"
      ]
     },
     "metadata": {},
     "execution_count": 78
    }
   ],
   "source": [
    "pattern.search(s1).span()[0]"
   ]
  },
  {
   "cell_type": "code",
   "execution_count": 81,
   "metadata": {},
   "outputs": [
    {
     "output_type": "execute_result",
     "data": {
      "text/plain": [
       "4"
      ]
     },
     "metadata": {},
     "execution_count": 81
    }
   ],
   "source": [
    "pattern.search(s2).span()[0]"
   ]
  },
  {
   "cell_type": "code",
   "execution_count": 82,
   "metadata": {},
   "outputs": [
    {
     "output_type": "execute_result",
     "data": {
      "text/plain": [
       "2"
      ]
     },
     "metadata": {},
     "execution_count": 82
    }
   ],
   "source": [
    "pattern.search(s3).span()[0]"
   ]
  },
  {
   "cell_type": "code",
   "execution_count": 83,
   "metadata": {},
   "outputs": [
    {
     "output_type": "execute_result",
     "data": {
      "text/plain": [
       "4"
      ]
     },
     "metadata": {},
     "execution_count": 83
    }
   ],
   "source": [
    "pattern.search(s4).span()[0]"
   ]
  },
  {
   "cell_type": "code",
   "execution_count": 84,
   "metadata": {},
   "outputs": [],
   "source": [
    "s1 = 'match after the last newline'\n",
    "s2 = 'and then you want to test'\n",
    "s3 = 'this is good bye then'\n",
    "s4 = 'who was there to see?'\n",
    "toMatch = ['is','the','was','to']\n",
    "pattern = re.compile('|'.join([w for w in toMatch]))"
   ]
  },
  {
   "cell_type": "code",
   "execution_count": 90,
   "metadata": {},
   "outputs": [
    {
     "output_type": "error",
     "ename": "IndexError",
     "evalue": "no such group",
     "traceback": [
      "\u001b[0;31m---------------------------------------------------------------------------\u001b[0m",
      "\u001b[0;31mIndexError\u001b[0m                                Traceback (most recent call last)",
      "\u001b[0;32m<ipython-input-90-7c8fa383b39c>\u001b[0m in \u001b[0;36m<module>\u001b[0;34m\u001b[0m\n\u001b[0;32m----> 1\u001b[0;31m \u001b[0mpattern\u001b[0m\u001b[0;34m.\u001b[0m\u001b[0msearch\u001b[0m\u001b[0;34m(\u001b[0m\u001b[0ms1\u001b[0m\u001b[0;34m)\u001b[0m\u001b[0;34m[\u001b[0m\u001b[0;34m-\u001b[0m\u001b[0;36m1\u001b[0m\u001b[0;34m]\u001b[0m\u001b[0;34m\u001b[0m\u001b[0;34m\u001b[0m\u001b[0m\n\u001b[0m",
      "\u001b[0;31mIndexError\u001b[0m: no such group"
     ]
    }
   ],
   "source": [
    "pattern.search(s1)[-1]"
   ]
  },
  {
   "cell_type": "code",
   "execution_count": null,
   "metadata": {},
   "outputs": [],
   "source": []
  }
 ]
}