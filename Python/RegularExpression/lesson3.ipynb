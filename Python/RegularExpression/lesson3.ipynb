{
 "metadata": {
  "language_info": {
   "codemirror_mode": {
    "name": "ipython",
    "version": 3
   },
   "file_extension": ".py",
   "mimetype": "text/x-python",
   "name": "python",
   "nbconvert_exporter": "python",
   "pygments_lexer": "ipython3",
   "version": "3.8.5-final"
  },
  "orig_nbformat": 2,
  "kernelspec": {
   "name": "python_defaultSpec_1600704614733",
   "display_name": "Python 3.8.5 64-bit"
  }
 },
 "nbformat": 4,
 "nbformat_minor": 2,
 "cells": [
  {
   "cell_type": "code",
   "execution_count": 2,
   "metadata": {},
   "outputs": [
    {
     "output_type": "execute_result",
     "data": {
      "text/plain": "True"
     },
     "metadata": {},
     "execution_count": 2
    }
   ],
   "source": [
    "import re\n",
    "bool(re.search(r'cat|dog','I like cats'))"
   ]
  },
  {
   "cell_type": "code",
   "execution_count": 4,
   "metadata": {},
   "outputs": [
    {
     "output_type": "execute_result",
     "data": {
      "text/plain": "True"
     },
     "metadata": {},
     "execution_count": 4
    }
   ],
   "source": [
    "bool(re.search(r'cat|dog','I like dogs'))"
   ]
  },
  {
   "cell_type": "code",
   "execution_count": 6,
   "metadata": {},
   "outputs": [
    {
     "output_type": "execute_result",
     "data": {
      "text/plain": "False"
     },
     "metadata": {},
     "execution_count": 6
    }
   ],
   "source": [
    "bool(re.search(r'cat|dog', 'I like parrots'))"
   ]
  },
  {
   "cell_type": "code",
   "execution_count": 8,
   "metadata": {},
   "outputs": [
    {
     "output_type": "execute_result",
     "data": {
      "text/plain": "'Xapults concatenate X sX'"
     },
     "metadata": {},
     "execution_count": 8
    }
   ],
   "source": [
    "re.sub(r'\\Acat|cat\\b','X','catapults concatenate cat scat')"
   ]
  },
  {
   "cell_type": "code",
   "execution_count": 10,
   "metadata": {},
   "outputs": [
    {
     "output_type": "execute_result",
     "data": {
      "text/plain": "'mammal mammal bee parrot mammal'"
     },
     "metadata": {},
     "execution_count": 10
    }
   ],
   "source": [
    "re.sub(r'cat|dog|fox','mammal','cat dog bee parrot fox')"
   ]
  },
  {
   "cell_type": "code",
   "execution_count": 11,
   "metadata": {},
   "outputs": [
    {
     "output_type": "execute_result",
     "data": {
      "text/plain": "'car|jeep'"
     },
     "metadata": {},
     "execution_count": 11
    }
   ],
   "source": [
    "'|'.join(['car','jeep'])"
   ]
  },
  {
   "cell_type": "code",
   "execution_count": 13,
   "metadata": {},
   "outputs": [
    {
     "output_type": "execute_result",
     "data": {
      "text/plain": "'cat|dog|fox'"
     },
     "metadata": {},
     "execution_count": 13
    }
   ],
   "source": [
    "words = ['cat','dog','fox']\n",
    "'|'.join(words)"
   ]
  },
  {
   "cell_type": "code",
   "execution_count": 14,
   "metadata": {},
   "outputs": [
    {
     "output_type": "execute_result",
     "data": {
      "text/plain": "'mammal mammal bee parrot mammal'"
     },
     "metadata": {},
     "execution_count": 14
    }
   ],
   "source": [
    "# dynamically constructing pattern\n",
    "re.sub('|'.join(words),'mammal','cat dog bee parrot fox')"
   ]
  },
  {
   "cell_type": "code",
   "execution_count": 15,
   "metadata": {},
   "outputs": [
    {
     "output_type": "execute_result",
     "data": {
      "text/plain": "'red X read arX'"
     },
     "metadata": {},
     "execution_count": 15
    }
   ],
   "source": [
    "# without grouping\n",
    "re.sub(r'reform|rest','X','red reform read arrest')"
   ]
  },
  {
   "cell_type": "code",
   "execution_count": 16,
   "metadata": {},
   "outputs": [
    {
     "output_type": "execute_result",
     "data": {
      "text/plain": "'red X read arX'"
     },
     "metadata": {},
     "execution_count": 16
    }
   ],
   "source": [
    "# with grouping\n",
    "re.sub(r're(form|st)','X','red reform read arrest')"
   ]
  },
  {
   "cell_type": "code",
   "execution_count": 17,
   "metadata": {},
   "outputs": [
    {
     "output_type": "execute_result",
     "data": {
      "text/plain": "'X spare X party'"
     },
     "metadata": {},
     "execution_count": 17
    }
   ],
   "source": [
    "# without grouping\n",
    "re.sub(r'\\bpar\\b|\\bpart\\b','X','par spare part party')"
   ]
  },
  {
   "cell_type": "code",
   "execution_count": 18,
   "metadata": {},
   "outputs": [
    {
     "output_type": "execute_result",
     "data": {
      "text/plain": "'X spare X party'"
     },
     "metadata": {},
     "execution_count": 18
    }
   ],
   "source": [
    "re.sub(r'\\b(par|part)\\b','X','par spare part party')"
   ]
  },
  {
   "cell_type": "code",
   "execution_count": 19,
   "metadata": {},
   "outputs": [
    {
     "output_type": "execute_result",
     "data": {
      "text/plain": "'X spare X party'"
     },
     "metadata": {},
     "execution_count": 19
    }
   ],
   "source": [
    "re.sub(r'\\bpar(|t)\\b','X','par spare part party')"
   ]
  },
  {
   "cell_type": "code",
   "execution_count": 21,
   "metadata": {},
   "outputs": [
    {
     "output_type": "execute_result",
     "data": {
      "text/plain": "'cat|par'"
     },
     "metadata": {},
     "execution_count": 21
    }
   ],
   "source": [
    "words = ['cat','par']\n",
    "'|'.join(words)"
   ]
  },
  {
   "cell_type": "code",
   "execution_count": 22,
   "metadata": {},
   "outputs": [
    {
     "output_type": "execute_result",
     "data": {
      "text/plain": "'Cater X conXenate X sXe'"
     },
     "metadata": {},
     "execution_count": 22
    }
   ],
   "source": [
    "re.sub('|'.join(words),'X','Cater cat concatenate par spare')"
   ]
  },
  {
   "cell_type": "code",
   "execution_count": 26,
   "metadata": {},
   "outputs": [],
   "source": [
    "alt = re.compile(r'\\b('+ '|'.join(words) +r')\\b')"
   ]
  },
  {
   "cell_type": "code",
   "execution_count": 27,
   "metadata": {},
   "outputs": [
    {
     "output_type": "execute_result",
     "data": {
      "text/plain": "'cater X concatenate X spare'"
     },
     "metadata": {},
     "execution_count": 27
    }
   ],
   "source": [
    "alt.sub('X','cater cat concatenate par spare')"
   ]
  },
  {
   "cell_type": "code",
   "execution_count": 29,
   "metadata": {},
   "outputs": [
    {
     "output_type": "execute_result",
     "data": {
      "text/plain": "'\\\\b(cat|par)\\\\b'"
     },
     "metadata": {},
     "execution_count": 29
    }
   ],
   "source": [
    "alt.pattern"
   ]
  },
  {
   "cell_type": "code",
   "execution_count": 30,
   "metadata": {},
   "outputs": [
    {
     "output_type": "execute_result",
     "data": {
      "text/plain": "True"
     },
     "metadata": {},
     "execution_count": 30
    }
   ],
   "source": [
    "alt.pattern == r'\\b(cat|par)\\b'"
   ]
  },
  {
   "cell_type": "code",
   "execution_count": 31,
   "metadata": {},
   "outputs": [],
   "source": [
    "terms = ['no', 'ten', 'it']\n",
    "items = ['dip', 'nobody', 'it', 'oh', 'no', 'bitten']"
   ]
  },
  {
   "cell_type": "code",
   "execution_count": 32,
   "metadata": {},
   "outputs": [],
   "source": [
    "pat = re.compile('|'.join(terms))"
   ]
  },
  {
   "cell_type": "code",
   "execution_count": 33,
   "metadata": {},
   "outputs": [
    {
     "output_type": "execute_result",
     "data": {
      "text/plain": "['it', 'no']"
     },
     "metadata": {},
     "execution_count": 33
    }
   ],
   "source": [
    "[w for w in items if(pat.fullmatch(w))]"
   ]
  },
  {
   "cell_type": "code",
   "execution_count": 34,
   "metadata": {},
   "outputs": [
    {
     "output_type": "execute_result",
     "data": {
      "text/plain": "['nobody', 'it', 'no', 'bitten']"
     },
     "metadata": {},
     "execution_count": 34
    }
   ],
   "source": [
    "[w for w in items if(pat.search(w))]"
   ]
  }
 ]
}