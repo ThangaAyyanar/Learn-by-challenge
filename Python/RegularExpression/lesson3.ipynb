{
 "metadata": {
  "language_info": {
   "codemirror_mode": {
    "name": "ipython",
    "version": 3
   },
   "file_extension": ".py",
   "mimetype": "text/x-python",
   "name": "python",
   "nbconvert_exporter": "python",
   "pygments_lexer": "ipython3",
   "version": "3.8.5-final"
  },
  "orig_nbformat": 2,
  "kernelspec": {
   "name": "python_defaultSpec_1600771570667",
   "display_name": "Python 3.8.5 64-bit"
  }
 },
 "nbformat": 4,
 "nbformat_minor": 2,
 "cells": [
  {
   "cell_type": "code",
   "execution_count": 5,
   "metadata": {},
   "outputs": [
    {
     "output_type": "execute_result",
     "data": {
      "text/plain": "True"
     },
     "metadata": {},
     "execution_count": 5
    }
   ],
   "source": [
    "import re\n",
    "bool(re.search(r'cat|dog','I like cats'))"
   ]
  },
  {
   "cell_type": "code",
   "execution_count": 4,
   "metadata": {},
   "outputs": [
    {
     "output_type": "execute_result",
     "data": {
      "text/plain": "True"
     },
     "metadata": {},
     "execution_count": 4
    }
   ],
   "source": [
    "bool(re.search(r'cat|dog','I like dogs'))"
   ]
  },
  {
   "cell_type": "code",
   "execution_count": 6,
   "metadata": {},
   "outputs": [
    {
     "output_type": "execute_result",
     "data": {
      "text/plain": "False"
     },
     "metadata": {},
     "execution_count": 6
    }
   ],
   "source": [
    "bool(re.search(r'cat|dog', 'I like parrots'))"
   ]
  },
  {
   "cell_type": "code",
   "execution_count": 8,
   "metadata": {},
   "outputs": [
    {
     "output_type": "execute_result",
     "data": {
      "text/plain": "'Xapults concatenate X sX'"
     },
     "metadata": {},
     "execution_count": 8
    }
   ],
   "source": [
    "re.sub(r'\\Acat|cat\\b','X','catapults concatenate cat scat')"
   ]
  },
  {
   "cell_type": "code",
   "execution_count": 10,
   "metadata": {},
   "outputs": [
    {
     "output_type": "execute_result",
     "data": {
      "text/plain": "'mammal mammal bee parrot mammal'"
     },
     "metadata": {},
     "execution_count": 10
    }
   ],
   "source": [
    "re.sub(r'cat|dog|fox','mammal','cat dog bee parrot fox')"
   ]
  },
  {
   "cell_type": "code",
   "execution_count": 11,
   "metadata": {},
   "outputs": [
    {
     "output_type": "execute_result",
     "data": {
      "text/plain": "'car|jeep'"
     },
     "metadata": {},
     "execution_count": 11
    }
   ],
   "source": [
    "'|'.join(['car','jeep'])"
   ]
  },
  {
   "cell_type": "code",
   "execution_count": 13,
   "metadata": {},
   "outputs": [
    {
     "output_type": "execute_result",
     "data": {
      "text/plain": "'cat|dog|fox'"
     },
     "metadata": {},
     "execution_count": 13
    }
   ],
   "source": [
    "words = ['cat','dog','fox']\n",
    "'|'.join(words)"
   ]
  },
  {
   "cell_type": "code",
   "execution_count": 14,
   "metadata": {},
   "outputs": [
    {
     "output_type": "execute_result",
     "data": {
      "text/plain": "'mammal mammal bee parrot mammal'"
     },
     "metadata": {},
     "execution_count": 14
    }
   ],
   "source": [
    "# dynamically constructing pattern\n",
    "re.sub('|'.join(words),'mammal','cat dog bee parrot fox')"
   ]
  },
  {
   "cell_type": "code",
   "execution_count": 15,
   "metadata": {},
   "outputs": [
    {
     "output_type": "execute_result",
     "data": {
      "text/plain": "'red X read arX'"
     },
     "metadata": {},
     "execution_count": 15
    }
   ],
   "source": [
    "# without grouping\n",
    "re.sub(r'reform|rest','X','red reform read arrest')"
   ]
  },
  {
   "cell_type": "code",
   "execution_count": 16,
   "metadata": {},
   "outputs": [
    {
     "output_type": "execute_result",
     "data": {
      "text/plain": "'red X read arX'"
     },
     "metadata": {},
     "execution_count": 16
    }
   ],
   "source": [
    "# with grouping\n",
    "re.sub(r're(form|st)','X','red reform read arrest')"
   ]
  },
  {
   "cell_type": "code",
   "execution_count": 17,
   "metadata": {},
   "outputs": [
    {
     "output_type": "execute_result",
     "data": {
      "text/plain": "'X spare X party'"
     },
     "metadata": {},
     "execution_count": 17
    }
   ],
   "source": [
    "# without grouping\n",
    "re.sub(r'\\bpar\\b|\\bpart\\b','X','par spare part party')"
   ]
  },
  {
   "cell_type": "code",
   "execution_count": 18,
   "metadata": {},
   "outputs": [
    {
     "output_type": "execute_result",
     "data": {
      "text/plain": "'X spare X party'"
     },
     "metadata": {},
     "execution_count": 18
    }
   ],
   "source": [
    "re.sub(r'\\b(par|part)\\b','X','par spare part party')"
   ]
  },
  {
   "cell_type": "code",
   "execution_count": 19,
   "metadata": {},
   "outputs": [
    {
     "output_type": "execute_result",
     "data": {
      "text/plain": "'X spare X party'"
     },
     "metadata": {},
     "execution_count": 19
    }
   ],
   "source": [
    "re.sub(r'\\bpar(|t)\\b','X','par spare part party')"
   ]
  },
  {
   "cell_type": "code",
   "execution_count": 21,
   "metadata": {},
   "outputs": [
    {
     "output_type": "execute_result",
     "data": {
      "text/plain": "'cat|par'"
     },
     "metadata": {},
     "execution_count": 21
    }
   ],
   "source": [
    "words = ['cat','par']\n",
    "'|'.join(words)"
   ]
  },
  {
   "cell_type": "code",
   "execution_count": 22,
   "metadata": {},
   "outputs": [
    {
     "output_type": "execute_result",
     "data": {
      "text/plain": "'Cater X conXenate X sXe'"
     },
     "metadata": {},
     "execution_count": 22
    }
   ],
   "source": [
    "re.sub('|'.join(words),'X','Cater cat concatenate par spare')"
   ]
  },
  {
   "cell_type": "code",
   "execution_count": 26,
   "metadata": {},
   "outputs": [],
   "source": [
    "alt = re.compile(r'\\b('+ '|'.join(words) +r')\\b')"
   ]
  },
  {
   "cell_type": "code",
   "execution_count": 27,
   "metadata": {},
   "outputs": [
    {
     "output_type": "execute_result",
     "data": {
      "text/plain": "'cater X concatenate X spare'"
     },
     "metadata": {},
     "execution_count": 27
    }
   ],
   "source": [
    "alt.sub('X','cater cat concatenate par spare')"
   ]
  },
  {
   "cell_type": "code",
   "execution_count": 29,
   "metadata": {},
   "outputs": [
    {
     "output_type": "execute_result",
     "data": {
      "text/plain": "'\\\\b(cat|par)\\\\b'"
     },
     "metadata": {},
     "execution_count": 29
    }
   ],
   "source": [
    "alt.pattern"
   ]
  },
  {
   "cell_type": "code",
   "execution_count": 30,
   "metadata": {},
   "outputs": [
    {
     "output_type": "execute_result",
     "data": {
      "text/plain": "True"
     },
     "metadata": {},
     "execution_count": 30
    }
   ],
   "source": [
    "alt.pattern == r'\\b(cat|par)\\b'"
   ]
  },
  {
   "cell_type": "code",
   "execution_count": 2,
   "metadata": {},
   "outputs": [],
   "source": [
    "terms = ['no', 'ten', 'it']\n",
    "items = ['dip', 'nobody', 'it', 'oh', 'no', 'bitten']"
   ]
  },
  {
   "cell_type": "code",
   "execution_count": 6,
   "metadata": {},
   "outputs": [],
   "source": [
    "pat = re.compile('|'.join(terms))"
   ]
  },
  {
   "cell_type": "code",
   "execution_count": 33,
   "metadata": {},
   "outputs": [
    {
     "output_type": "execute_result",
     "data": {
      "text/plain": "['it', 'no']"
     },
     "metadata": {},
     "execution_count": 33
    }
   ],
   "source": [
    "[w for w in items if(pat.fullmatch(w))]"
   ]
  },
  {
   "cell_type": "code",
   "execution_count": 8,
   "metadata": {},
   "outputs": [
    {
     "output_type": "execute_result",
     "data": {
      "text/plain": "['nobody', 'it', 'no', 'bitten']"
     },
     "metadata": {},
     "execution_count": 8
    }
   ],
   "source": [
    "[w for w in items if(pat.search(w))]"
   ]
  },
  {
   "cell_type": "code",
   "execution_count": 10,
   "metadata": {},
   "outputs": [
    {
     "output_type": "execute_result",
     "data": {
      "text/plain": "<re.Match object; span=(2, 4), match='on'>"
     },
     "metadata": {},
     "execution_count": 10
    }
   ],
   "source": [
    "# Precedence rules\n",
    "words = 'lion elephant are rope not'\n",
    "re.search(r'on',words)"
   ]
  },
  {
   "cell_type": "code",
   "execution_count": 12,
   "metadata": {},
   "outputs": [
    {
     "output_type": "execute_result",
     "data": {
      "text/plain": "<re.Match object; span=(10, 13), match='ant'>"
     },
     "metadata": {},
     "execution_count": 12
    }
   ],
   "source": [
    "re.search(r'ant',words)"
   ]
  },
  {
   "cell_type": "code",
   "execution_count": 14,
   "metadata": {},
   "outputs": [
    {
     "output_type": "execute_result",
     "data": {
      "text/plain": "'liX elephant are rope not'"
     },
     "metadata": {},
     "execution_count": 14
    }
   ],
   "source": [
    "re.sub(r'on|ant','X',words,count=1)"
   ]
  },
  {
   "cell_type": "code",
   "execution_count": 16,
   "metadata": {},
   "outputs": [
    {
     "output_type": "execute_result",
     "data": {
      "text/plain": "'liX elephant are rope not'"
     },
     "metadata": {},
     "execution_count": 16
    }
   ],
   "source": [
    "re.sub(r'ant|on','X',words,count=1)"
   ]
  },
  {
   "cell_type": "code",
   "execution_count": 18,
   "metadata": {},
   "outputs": [
    {
     "output_type": "execute_result",
     "data": {
      "text/plain": "<re.Match object; span=(5, 9), match='year'>"
     },
     "metadata": {},
     "execution_count": 18
    }
   ],
   "source": [
    "mood = 'best years'\n",
    "re.search(r'year',mood)"
   ]
  },
  {
   "cell_type": "code",
   "execution_count": 19,
   "metadata": {},
   "outputs": [
    {
     "output_type": "execute_result",
     "data": {
      "text/plain": "<re.Match object; span=(5, 10), match='years'>"
     },
     "metadata": {},
     "execution_count": 19
    }
   ],
   "source": [
    "re.search(r'years',mood)"
   ]
  },
  {
   "cell_type": "code",
   "execution_count": 21,
   "metadata": {},
   "outputs": [
    {
     "output_type": "execute_result",
     "data": {
      "text/plain": "'best Xs'"
     },
     "metadata": {},
     "execution_count": 21
    }
   ],
   "source": [
    "re.sub(r'year|years','X',mood, count=1)"
   ]
  },
  {
   "cell_type": "code",
   "execution_count": 22,
   "metadata": {},
   "outputs": [
    {
     "output_type": "execute_result",
     "data": {
      "text/plain": "'best X'"
     },
     "metadata": {},
     "execution_count": 22
    }
   ],
   "source": [
    "re.sub(r'years|year','X',mood, count=1)"
   ]
  },
  {
   "cell_type": "code",
   "execution_count": 23,
   "metadata": {},
   "outputs": [],
   "source": [
    "words = 'ear xerox at mare part learn eye'"
   ]
  },
  {
   "cell_type": "code",
   "execution_count": 24,
   "metadata": {},
   "outputs": [
    {
     "output_type": "execute_result",
     "data": {
      "text/plain": "'eX xerox at mXe pXt leXn eye'"
     },
     "metadata": {},
     "execution_count": 24
    }
   ],
   "source": [
    "re.sub(r'ar|are|art','X',words)"
   ]
  },
  {
   "cell_type": "code",
   "execution_count": 25,
   "metadata": {},
   "outputs": [
    {
     "output_type": "execute_result",
     "data": {
      "text/plain": "'eX xerox at mX pXt leXn eye'"
     },
     "metadata": {},
     "execution_count": 25
    }
   ],
   "source": [
    "re.sub(r'are|ar|art','X',words)"
   ]
  },
  {
   "cell_type": "code",
   "execution_count": 26,
   "metadata": {},
   "outputs": [
    {
     "output_type": "execute_result",
     "data": {
      "text/plain": "'eX xerox at mX pX leXn eye'"
     },
     "metadata": {},
     "execution_count": 26
    }
   ],
   "source": [
    "re.sub(r'are|art|ar','X',words)"
   ]
  },
  {
   "cell_type": "code",
   "execution_count": 33,
   "metadata": {},
   "outputs": [],
   "source": [
    "# Longest substring first\n",
    "words = ['hand','handy','handful']\n",
    "alt = re.compile('|'.join(sorted(words,key=len,reverse=True)))"
   ]
  },
  {
   "cell_type": "code",
   "execution_count": 34,
   "metadata": {},
   "outputs": [
    {
     "output_type": "execute_result",
     "data": {
      "text/plain": "'handful|handy|hand'"
     },
     "metadata": {},
     "execution_count": 34
    }
   ],
   "source": [
    "alt.pattern"
   ]
  },
  {
   "cell_type": "code",
   "execution_count": 35,
   "metadata": {},
   "outputs": [
    {
     "output_type": "execute_result",
     "data": {
      "text/plain": "'Xs X Xed X'"
     },
     "metadata": {},
     "execution_count": 35
    }
   ],
   "source": [
    "alt.sub('X','hands handful handed handy')"
   ]
  },
  {
   "cell_type": "code",
   "execution_count": 37,
   "metadata": {},
   "outputs": [
    {
     "output_type": "execute_result",
     "data": {
      "text/plain": "'Xs Xful Xed Xy'"
     },
     "metadata": {},
     "execution_count": 37
    }
   ],
   "source": [
    "re.sub('|'.join(words),'X','hands handful handed handy')"
   ]
  },
  {
   "cell_type": "code",
   "execution_count": 39,
   "metadata": {},
   "outputs": [
    {
     "output_type": "execute_result",
     "data": {
      "text/plain": "['lovely', '2 lonely', 'dent']"
     },
     "metadata": {},
     "execution_count": 39
    }
   ],
   "source": [
    "# Exercises\n",
    "# Problem 1\n",
    "items = ['lovely','1\\ndentist','2 lonely','eden','fly\\n','dent']\n",
    "[w for w in items if re.search(r'\\Aden|ly\\Z',w)]"
   ]
  },
  {
   "cell_type": "code",
   "execution_count": 41,
   "metadata": {},
   "outputs": [
    {
     "output_type": "execute_result",
     "data": {
      "text/plain": "['lovely', '1\\ndentist', '2 lonely', 'fly\\nfar', 'dent']"
     },
     "metadata": {},
     "execution_count": 41
    }
   ],
   "source": [
    "# Problem 2\n",
    "items = ['lovely','1\\ndentist','2 lonely','eden','fly\\nfar','dent']\n",
    "[w for w in items if re.search(r'^den|ly$',w,flags=re.M)]"
   ]
  },
  {
   "cell_type": "code",
   "execution_count": 48,
   "metadata": {},
   "outputs": [],
   "source": [
    "# Problem 3\n",
    "s1 = 'creed refuse removed read'\n",
    "s2 = 'refused reed redp received'\n",
    "pat = re.compile(r're(mov|ceiv|fus|)ed')"
   ]
  },
  {
   "cell_type": "code",
   "execution_count": 49,
   "metadata": {},
   "outputs": [
    {
     "output_type": "execute_result",
     "data": {
      "text/plain": "'cX refuse X read'"
     },
     "metadata": {},
     "execution_count": 49
    }
   ],
   "source": [
    "pat.sub('X',s1)"
   ]
  },
  {
   "cell_type": "code",
   "execution_count": 50,
   "metadata": {},
   "outputs": [
    {
     "output_type": "execute_result",
     "data": {
      "text/plain": "'X X redp X'"
     },
     "metadata": {},
     "execution_count": 50
    }
   ],
   "source": [
    "pat.sub('X',s2)"
   ]
  },
  {
   "cell_type": "code",
   "execution_count": 51,
   "metadata": {},
   "outputs": [],
   "source": [
    "# Problem 4\n",
    "s1 = 'plate full of slate'\n",
    "s2 = \"slated for later, don't be late\"\n",
    "words = ['late','later','slated']"
   ]
  },
  {
   "cell_type": "code",
   "execution_count": 55,
   "metadata": {},
   "outputs": [],
   "source": [
    "pat = re.compile('|'.join(sorted(words,key=len,reverse=True)))"
   ]
  },
  {
   "cell_type": "code",
   "execution_count": 56,
   "metadata": {},
   "outputs": [
    {
     "output_type": "execute_result",
     "data": {
      "text/plain": "'pA full of sA'"
     },
     "metadata": {},
     "execution_count": 56
    }
   ],
   "source": [
    "pat.sub('A',s1)"
   ]
  },
  {
   "cell_type": "code",
   "execution_count": 57,
   "metadata": {},
   "outputs": [
    {
     "output_type": "execute_result",
     "data": {
      "text/plain": "\"A for A, don't be A\""
     },
     "metadata": {},
     "execution_count": 57
    }
   ],
   "source": [
    "pat.sub('A',s2)"
   ]
  },
  {
   "cell_type": "code",
   "execution_count": 59,
   "metadata": {},
   "outputs": [],
   "source": [
    "# Problem 5\n",
    "items = ['slate','later','plate','late','slates','slated ']\n",
    "words = ['late','later','slated']"
   ]
  },
  {
   "cell_type": "code",
   "execution_count": 60,
   "metadata": {},
   "outputs": [],
   "source": [
    "pat = re.compile('|'.join(sorted(words,key=len,reverse=True)))"
   ]
  },
  {
   "cell_type": "code",
   "execution_count": 62,
   "metadata": {},
   "outputs": [
    {
     "output_type": "execute_result",
     "data": {
      "text/plain": "['later', 'late']"
     },
     "metadata": {},
     "execution_count": 62
    }
   ],
   "source": [
    "[w for w in items if pat.fullmatch(w)]"
   ]
  }
 ]
}