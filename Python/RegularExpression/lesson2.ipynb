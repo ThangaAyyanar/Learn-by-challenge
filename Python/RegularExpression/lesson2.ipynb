{
 "metadata": {
  "language_info": {
   "codemirror_mode": {
    "name": "ipython",
    "version": 3
   },
   "file_extension": ".py",
   "mimetype": "text/x-python",
   "name": "python",
   "nbconvert_exporter": "python",
   "pygments_lexer": "ipython3",
   "version": "3.8.5-final"
  },
  "orig_nbformat": 2,
  "kernelspec": {
   "name": "python_defaultSpec_1600697727742",
   "display_name": "Python 3.8.5 64-bit"
  }
 },
 "nbformat": 4,
 "nbformat_minor": 2,
 "cells": [
  {
   "cell_type": "code",
   "execution_count": 1,
   "metadata": {},
   "outputs": [],
   "source": [
    "import re"
   ]
  },
  {
   "cell_type": "code",
   "execution_count": 7,
   "metadata": {},
   "outputs": [
    {
     "output_type": "execute_result",
     "data": {
      "text/plain": "True"
     },
     "metadata": {},
     "execution_count": 7
    }
   ],
   "source": [
    "# Problem one\n",
    "line1 = 'be nice'\n",
    "line2 = '\"best!\"'\n",
    "line3 = 'better?'\n",
    "line4 = 'oh no\\nbear spotted'\n",
    "\n",
    "pat = re.compile(r'\\Abe')\n",
    "bool(pat.search(line1))"
   ]
  },
  {
   "cell_type": "code",
   "execution_count": 8,
   "metadata": {},
   "outputs": [
    {
     "output_type": "execute_result",
     "data": {
      "text/plain": "False"
     },
     "metadata": {},
     "execution_count": 8
    }
   ],
   "source": [
    "bool(pat.search(line2))"
   ]
  },
  {
   "cell_type": "code",
   "execution_count": 9,
   "metadata": {},
   "outputs": [
    {
     "output_type": "execute_result",
     "data": {
      "text/plain": "True"
     },
     "metadata": {},
     "execution_count": 9
    }
   ],
   "source": [
    "bool(pat.search(line3))"
   ]
  },
  {
   "cell_type": "code",
   "execution_count": 10,
   "metadata": {},
   "outputs": [
    {
     "output_type": "execute_result",
     "data": {
      "text/plain": "False"
     },
     "metadata": {},
     "execution_count": 10
    }
   ],
   "source": [
    "bool(pat.search(line4))"
   ]
  },
  {
   "cell_type": "code",
   "execution_count": 11,
   "metadata": {},
   "outputs": [],
   "source": [
    "# Problem two\n",
    "words = 'bred red spread credible'"
   ]
  },
  {
   "cell_type": "code",
   "execution_count": 13,
   "metadata": {},
   "outputs": [
    {
     "output_type": "execute_result",
     "data": {
      "text/plain": "'bred brown spread credible'"
     },
     "metadata": {},
     "execution_count": 13
    }
   ],
   "source": [
    "re.sub(r'\\bred\\b','brown',words)"
   ]
  },
  {
   "cell_type": "code",
   "execution_count": 16,
   "metadata": {},
   "outputs": [],
   "source": [
    "# Problem three\n",
    "words = ['hi42bye','nice1423','bad42','cool_42a','fake4b']"
   ]
  },
  {
   "cell_type": "code",
   "execution_count": 19,
   "metadata": {},
   "outputs": [
    {
     "output_type": "execute_result",
     "data": {
      "text/plain": "['hi42bye', 'nice1423', 'cool_42a']"
     },
     "metadata": {},
     "execution_count": 19
    }
   ],
   "source": [
    "[w for w in words if re.search(r'\\B42\\B',w)]"
   ]
  },
  {
   "cell_type": "code",
   "execution_count": 20,
   "metadata": {},
   "outputs": [],
   "source": [
    "# Problem four\n",
    "items = ['lovely','1\\ndentist','2 lonely','eden','fly\\n','dent']"
   ]
  },
  {
   "cell_type": "code",
   "execution_count": 23,
   "metadata": {},
   "outputs": [
    {
     "output_type": "execute_result",
     "data": {
      "text/plain": "['lovely', '2 lonely', 'dent']"
     },
     "metadata": {},
     "execution_count": 23
    }
   ],
   "source": [
    "[e for e in items if re.search(r'\\Aden',e) or re.search(r'ly\\Z',e)]"
   ]
  },
  {
   "cell_type": "code",
   "execution_count": 25,
   "metadata": {},
   "outputs": [],
   "source": [
    "# Problem five\n",
    "para = '''\\\n",
    "ball fall wall tall\n",
    "mall call ball pall\n",
    "wall mall ball fall\n",
    "mallet wallet malls'''"
   ]
  },
  {
   "cell_type": "code",
   "execution_count": 34,
   "metadata": {
    "tags": []
   },
   "outputs": [
    {
     "output_type": "stream",
     "name": "stdout",
     "text": "ball fall wall tall\n1234 call ball pall\nwall mall ball fall\nmallet wallet malls\n"
    }
   ],
   "source": [
    "print(re.sub(r'^mall\\b','1234',para,flags=re.M))"
   ]
  },
  {
   "cell_type": "code",
   "execution_count": 36,
   "metadata": {},
   "outputs": [],
   "source": [
    "# Problem six\n",
    "items = ['lovely', '1\\ndentist', '2 lonely', 'eden', 'fly\\nfar', 'dent']"
   ]
  },
  {
   "cell_type": "code",
   "execution_count": 42,
   "metadata": {},
   "outputs": [
    {
     "output_type": "execute_result",
     "data": {
      "text/plain": "['lovely', '1\\ndentist', '2 lonely', 'fly\\nfar', 'dent']"
     },
     "metadata": {},
     "execution_count": 42
    }
   ],
   "source": [
    "[item for item in items if re.search(r'^den',item,flags=re.M) or re.search(r'ly$',item,flags=re.M)]"
   ]
  },
  {
   "cell_type": "code",
   "execution_count": 43,
   "metadata": {},
   "outputs": [],
   "source": [
    "# Problem seven\n",
    "items = ['12\\nthree\\n','12\\nThree','12\\nthree\\n4','12\\nthree']"
   ]
  },
  {
   "cell_type": "code",
   "execution_count": 47,
   "metadata": {},
   "outputs": [
    {
     "output_type": "execute_result",
     "data": {
      "text/plain": "['12\\nThree', '12\\nthree']"
     },
     "metadata": {},
     "execution_count": 47
    }
   ],
   "source": [
    "[item for item in items if re.fullmatch(r'12\\nthree',item,flags=re.I)]"
   ]
  },
  {
   "cell_type": "code",
   "execution_count": 55,
   "metadata": {},
   "outputs": [],
   "source": [
    "items = ['handed','hand','handy','unhanded','handle','hand-2']"
   ]
  },
  {
   "cell_type": "code",
   "execution_count": 56,
   "metadata": {},
   "outputs": [
    {
     "output_type": "execute_result",
     "data": {
      "text/plain": "['handed', 'handy', 'unhanded', 'handle']"
     },
     "metadata": {},
     "execution_count": 56
    }
   ],
   "source": [
    "[item for item in items if re.search(r'hand\\B',item)]"
   ]
  },
  {
   "cell_type": "code",
   "execution_count": 58,
   "metadata": {},
   "outputs": [
    {
     "output_type": "execute_result",
     "data": {
      "text/plain": "['Xed', 'hand', 'Xy', 'unXed', 'Xle', 'hand-2']"
     },
     "metadata": {},
     "execution_count": 58
    }
   ],
   "source": [
    "[re.sub(r'hand\\B','X',item) for item in items]"
   ]
  },
  {
   "cell_type": "code",
   "execution_count": 61,
   "metadata": {},
   "outputs": [
    {
     "output_type": "execute_result",
     "data": {
      "text/plain": "['handXd', 'hand', 'handy', 'handlX', 'hand-2']"
     },
     "metadata": {},
     "execution_count": 61
    }
   ],
   "source": [
    "# Problem eight\n",
    "[re.sub(r'e','X',item) for item in items if re.search(r'\\Ah',item)]"
   ]
  }
 ]
}