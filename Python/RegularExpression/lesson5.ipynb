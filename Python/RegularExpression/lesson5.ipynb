{
 "metadata": {
  "language_info": {
   "codemirror_mode": {
    "name": "ipython",
    "version": 3
   },
   "file_extension": ".py",
   "mimetype": "text/x-python",
   "name": "python",
   "nbconvert_exporter": "python",
   "pygments_lexer": "ipython3",
   "version": "3.8.5-final"
  },
  "orig_nbformat": 2,
  "kernelspec": {
   "name": "Python 3.8.5 64-bit",
   "display_name": "Python 3.8.5 64-bit",
   "metadata": {
    "interpreter": {
     "hash": "1ee38ef4a5a9feb55287fd749643f13d043cb0a7addaab2a9c224cbe137c0062"
    }
   }
  }
 },
 "nbformat": 4,
 "nbformat_minor": 2,
 "cells": [
  {
   "cell_type": "code",
   "execution_count": 2,
   "metadata": {},
   "outputs": [],
   "source": [
    "# Quantifiers (.,?,*)\n",
    "import re"
   ]
  },
  {
   "cell_type": "code",
   "execution_count": 3,
   "metadata": {},
   "outputs": [
    {
     "output_type": "execute_result",
     "data": {
      "text/plain": "'taXin X abXuv aXe'"
     },
     "metadata": {},
     "execution_count": 3
    }
   ],
   "source": [
    "re.sub(r'c.t','X','tac tin cat abc;tuv acute')"
   ]
  },
  {
   "cell_type": "code",
   "execution_count": 4,
   "metadata": {},
   "outputs": [
    {
     "output_type": "execute_result",
     "data": {
      "text/plain": "'bXth maXly repoX oveXes'"
     },
     "metadata": {},
     "execution_count": 4
    }
   ],
   "source": [
    "re.sub(r'r..d','X','breadth markedly reported overrides')"
   ]
  },
  {
   "cell_type": "code",
   "execution_count": 5,
   "metadata": {},
   "outputs": [
    {
     "output_type": "execute_result",
     "data": {
      "text/plain": "'485'"
     },
     "metadata": {},
     "execution_count": 5
    }
   ],
   "source": [
    "re.sub('2.3','8','42\\t35')"
   ]
  },
  {
   "cell_type": "code",
   "execution_count": 6,
   "metadata": {},
   "outputs": [
    {
     "output_type": "execute_result",
     "data": {
      "text/plain": "False"
     },
     "metadata": {},
     "execution_count": 6
    }
   ],
   "source": [
    "bool(re.search(r'a.b','a\\nb'))"
   ]
  },
  {
   "cell_type": "code",
   "execution_count": 7,
   "metadata": {},
   "outputs": [
    {
     "output_type": "execute_result",
     "data": {
      "text/plain": "['apple', '85', 'mango', '70']"
     },
     "metadata": {},
     "execution_count": 7
    }
   ],
   "source": [
    "re.split(r'-','apple-85-mango-70')"
   ]
  },
  {
   "cell_type": "code",
   "execution_count": 8,
   "metadata": {},
   "outputs": [
    {
     "output_type": "execute_result",
     "data": {
      "text/plain": "['apple', '85-mango-70']"
     },
     "metadata": {},
     "execution_count": 8
    }
   ],
   "source": [
    "re.split(r'-','apple-85-mango-70',maxsplit=1)"
   ]
  },
  {
   "cell_type": "code",
   "execution_count": 9,
   "metadata": {},
   "outputs": [
    {
     "output_type": "execute_result",
     "data": {
      "text/plain": "['bus', 'car', 'van']"
     },
     "metadata": {},
     "execution_count": 9
    }
   ],
   "source": [
    "re.split(r':.:','bus:3:car:5:van')"
   ]
  },
  {
   "cell_type": "code",
   "execution_count": 10,
   "metadata": {},
   "outputs": [
    {
     "output_type": "execute_result",
     "data": {
      "text/plain": "'fX feat flXe fX'"
     },
     "metadata": {},
     "execution_count": 10
    }
   ],
   "source": [
    "# Greedy quantifiers (?)\n",
    "re.sub(r'e?ar','X','far feat flare fear')"
   ]
  },
  {
   "cell_type": "code",
   "execution_count": 11,
   "metadata": {},
   "outputs": [
    {
     "output_type": "execute_result",
     "data": {
      "text/plain": "'X spare X party'"
     },
     "metadata": {},
     "execution_count": 11
    }
   ],
   "source": [
    "re.sub(r'\\bpart?\\b','X','par spare part party')"
   ]
  },
  {
   "cell_type": "code",
   "execution_count": 14,
   "metadata": {},
   "outputs": [
    {
     "output_type": "execute_result",
     "data": {
      "text/plain": "['red', 'read', 're;d', 'reed']"
     },
     "metadata": {},
     "execution_count": 14
    }
   ],
   "source": [
    "words = ['red','read','ready','re;d','road','redo','reed','rod']\n",
    "[w for w in words if re.search(r'\\bre.?d\\b',w)]"
   ]
  },
  {
   "cell_type": "code",
   "execution_count": 15,
   "metadata": {},
   "outputs": [
    {
     "output_type": "execute_result",
     "data": {
      "text/plain": "'par X X parent'"
     },
     "metadata": {},
     "execution_count": 15
    }
   ],
   "source": [
    "re.sub(r'par(ro)?t','X','par part parrot parent')"
   ]
  },
  {
   "cell_type": "code",
   "execution_count": 17,
   "metadata": {},
   "outputs": [
    {
     "output_type": "execute_result",
     "data": {
      "text/plain": "'par X X X'"
     },
     "metadata": {},
     "execution_count": 17
    }
   ],
   "source": [
    "re.sub(r'par(en|ro)?t','X','par part parrot parent')"
   ]
  },
  {
   "cell_type": "code",
   "execution_count": 18,
   "metadata": {},
   "outputs": [
    {
     "output_type": "execute_result",
     "data": {
      "text/plain": "'X tear Xe steer siXa'"
     },
     "metadata": {},
     "execution_count": 18
    }
   ],
   "source": [
    "# * operator\n",
    "re.sub(r'ta*r','X','tr tear tare steer sitaara')"
   ]
  },
  {
   "cell_type": "code",
   "execution_count": 19,
   "metadata": {},
   "outputs": [
    {
     "output_type": "execute_result",
     "data": {
      "text/plain": "'X X Xe sX siXa'"
     },
     "metadata": {},
     "execution_count": 19
    }
   ],
   "source": [
    "re.sub(r't(e|a)*r','X','tr tear tare steer sitaara')"
   ]
  },
  {
   "cell_type": "code",
   "execution_count": 20,
   "metadata": {},
   "outputs": [
    {
     "output_type": "execute_result",
     "data": {
      "text/plain": "'3X511114X'"
     },
     "metadata": {},
     "execution_count": 20
    }
   ],
   "source": [
    "re.sub(r'1*2','X','3111111111125111142')"
   ]
  },
  {
   "cell_type": "code",
   "execution_count": 21,
   "metadata": {},
   "outputs": [
    {
     "output_type": "execute_result",
     "data": {
      "text/plain": "'000000000000X50004X'"
     },
     "metadata": {},
     "execution_count": 21
    }
   ],
   "source": [
    "re.sub(r'1*2','X','0000000000002500042')"
   ]
  },
  {
   "cell_type": "code",
   "execution_count": 22,
   "metadata": {},
   "outputs": [
    {
     "output_type": "execute_result",
     "data": {
      "text/plain": "['3', '511114', '']"
     },
     "metadata": {},
     "execution_count": 22
    }
   ],
   "source": [
    "re.split(r'1*2','3111111111125111142')"
   ]
  },
  {
   "cell_type": "code",
   "execution_count": 23,
   "metadata": {},
   "outputs": [
    {
     "output_type": "execute_result",
     "data": {
      "text/plain": "['3', '5111142']"
     },
     "metadata": {},
     "execution_count": 23
    }
   ],
   "source": [
    "re.split(r'1*2','3111111111125111142',maxsplit=1)"
   ]
  },
  {
   "cell_type": "code",
   "execution_count": 24,
   "metadata": {},
   "outputs": [
    {
     "output_type": "execute_result",
     "data": {
      "text/plain": "['', 'c', 'l', 'o', '', 'd', 'y', '']"
     },
     "metadata": {},
     "execution_count": 24
    }
   ],
   "source": [
    "re.split(r'u*','cloudy')"
   ]
  },
  {
   "cell_type": "code",
   "execution_count": 25,
   "metadata": {},
   "outputs": [
    {
     "output_type": "execute_result",
     "data": {
      "text/plain": "'tr tear Xe steer siXa'"
     },
     "metadata": {},
     "execution_count": 25
    }
   ],
   "source": [
    "# + quantifier\n",
    "re.sub(r'ta+r','X','tr tear tare steer sitaara')"
   ]
  },
  {
   "cell_type": "code",
   "execution_count": 26,
   "metadata": {},
   "outputs": [
    {
     "output_type": "execute_result",
     "data": {
      "text/plain": "'tr X Xe sX siXa'"
     },
     "metadata": {},
     "execution_count": 26
    }
   ],
   "source": [
    "re.sub(r't(e|a)+r','X','tr tear tare steer sitaara')"
   ]
  },
  {
   "cell_type": "code",
   "execution_count": 27,
   "metadata": {},
   "outputs": [
    {
     "output_type": "execute_result",
     "data": {
      "text/plain": "'3X5111142'"
     },
     "metadata": {},
     "execution_count": 27
    }
   ],
   "source": [
    "re.sub(r'1+2','X','3111111111125111142')"
   ]
  },
  {
   "cell_type": "code",
   "execution_count": 28,
   "metadata": {},
   "outputs": [
    {
     "output_type": "execute_result",
     "data": {
      "text/plain": "['3', '25', '42']"
     },
     "metadata": {},
     "execution_count": 28
    }
   ],
   "source": [
    "re.split(r'1+', '3111111111125111142')"
   ]
  },
  {
   "cell_type": "code",
   "execution_count": 29,
   "metadata": {},
   "outputs": [
    {
     "output_type": "execute_result",
     "data": {
      "text/plain": "['clo', 'dy']"
     },
     "metadata": {},
     "execution_count": 29
    }
   ],
   "source": [
    "re.split(r'u+','cloudy')"
   ]
  },
  {
   "cell_type": "code",
   "execution_count": 32,
   "metadata": {},
   "outputs": [],
   "source": [
    "# { }\n",
    "demo = ['abc','ac','adc','abbc','xabbbcz','xxabbbbcz','bbb','bc','abbbbbc']"
   ]
  },
  {
   "cell_type": "code",
   "execution_count": 33,
   "metadata": {},
   "outputs": [
    {
     "output_type": "execute_result",
     "data": {
      "text/plain": "['abc', 'abbc', 'xabbbcz', 'xxabbbbcz']"
     },
     "metadata": {},
     "execution_count": 33
    }
   ],
   "source": [
    "[w for w in demo if re.search(r'ab{1,4}c',w)]"
   ]
  },
  {
   "cell_type": "code",
   "execution_count": 34,
   "metadata": {},
   "outputs": [
    {
     "output_type": "execute_result",
     "data": {
      "text/plain": "['xabbbcz', 'xxabbbbcz', 'abbbbbc']"
     },
     "metadata": {},
     "execution_count": 34
    }
   ],
   "source": [
    "[w for w in demo if re.search(r'ab{3,}c',w)]"
   ]
  },
  {
   "cell_type": "code",
   "execution_count": 35,
   "metadata": {},
   "outputs": [
    {
     "output_type": "execute_result",
     "data": {
      "text/plain": "['abc', 'ac', 'abbc']"
     },
     "metadata": {},
     "execution_count": 35
    }
   ],
   "source": [
    "[w for w in demo if re.search(r'ab{,2}c',w)]"
   ]
  },
  {
   "cell_type": "code",
   "execution_count": 36,
   "metadata": {},
   "outputs": [
    {
     "output_type": "execute_result",
     "data": {
      "text/plain": "['xabbbcz']"
     },
     "metadata": {},
     "execution_count": 36
    }
   ],
   "source": [
    "[w for w in demo if re.search(r'ab{3}c',w)]"
   ]
  },
  {
   "cell_type": "code",
   "execution_count": 37,
   "metadata": {},
   "outputs": [
    {
     "output_type": "execute_result",
     "data": {
      "text/plain": "True"
     },
     "metadata": {},
     "execution_count": 37
    }
   ],
   "source": [
    "# dot character as conditional and\n",
    "bool(re.search(r'Error.*valid', 'Error: not a valid input'))"
   ]
  },
  {
   "cell_type": "code",
   "execution_count": 38,
   "metadata": {},
   "outputs": [
    {
     "output_type": "execute_result",
     "data": {
      "text/plain": "False"
     },
     "metadata": {},
     "execution_count": 38
    }
   ],
   "source": [
    "bool(re.search(r'Error.*valid', 'Error: key not found'))"
   ]
  },
  {
   "cell_type": "code",
   "execution_count": 39,
   "metadata": {},
   "outputs": [
    {
     "output_type": "execute_result",
     "data": {
      "text/plain": "True"
     },
     "metadata": {},
     "execution_count": 39
    }
   ],
   "source": [
    "seq1 = 'cat and dog'\n",
    "seq2 = 'dog and cat'\n",
    "bool(re.search(r'cat.*dog|dog.*cat',seq1))"
   ]
  },
  {
   "cell_type": "code",
   "execution_count": 40,
   "metadata": {},
   "outputs": [
    {
     "output_type": "execute_result",
     "data": {
      "text/plain": "True"
     },
     "metadata": {},
     "execution_count": 40
    }
   ],
   "source": [
    "bool(re.search(r'cat.*dog|dog.*cat',seq2))"
   ]
  },
  {
   "cell_type": "code",
   "execution_count": 41,
   "metadata": {},
   "outputs": [
    {
     "output_type": "execute_result",
     "data": {
      "text/plain": "True"
     },
     "metadata": {},
     "execution_count": 41
    }
   ],
   "source": [
    "# scalable approach for True or False\n",
    "patterns = (r'cat',r'dog')\n",
    "all(re.search(p,seq1) for p in patterns)"
   ]
  },
  {
   "cell_type": "code",
   "execution_count": 42,
   "metadata": {},
   "outputs": [
    {
     "output_type": "execute_result",
     "data": {
      "text/plain": "True"
     },
     "metadata": {},
     "execution_count": 42
    }
   ],
   "source": [
    "all(re.search(p,seq2) for p in patterns)"
   ]
  },
  {
   "cell_type": "code",
   "execution_count": 3,
   "metadata": {},
   "outputs": [
    {
     "output_type": "execute_result",
     "data": {
      "text/plain": "&#39;Xt&#39;"
     },
     "metadata": {},
     "execution_count": 3
    }
   ],
   "source": [
    "# Greedy\n",
    "re.sub(r'f.?o','X','foot')"
   ]
  },
  {
   "cell_type": "code",
   "execution_count": 4,
   "metadata": {
    "tags": []
   },
   "outputs": [
    {
     "output_type": "stream",
     "name": "stdout",
     "text": "blah \\&lt; foo \\&lt; bar \\&lt; blah \\&lt;\n"
    }
   ],
   "source": [
    "print(re.sub(r'\\\\?<',r'\\<',r'blah \\< foo < bar \\< blah \\<'))"
   ]
  },
  {
   "cell_type": "code",
   "execution_count": 6,
   "metadata": {},
   "outputs": [
    {
     "output_type": "execute_result",
     "data": {
      "text/plain": "&#39;X X X&#39;"
     },
     "metadata": {},
     "execution_count": 6
    }
   ],
   "source": [
    "re.sub(r'hand(y|ful)?','X','hand handy handful')"
   ]
  },
  {
   "cell_type": "code",
   "execution_count": 7,
   "metadata": {},
   "outputs": [],
   "source": [
    "sentence = 'that is quite a fabricated tale'"
   ]
  },
  {
   "cell_type": "code",
   "execution_count": 8,
   "metadata": {},
   "outputs": [
    {
     "output_type": "execute_result",
     "data": {
      "text/plain": "&#39;Xle&#39;"
     },
     "metadata": {},
     "execution_count": 8
    }
   ],
   "source": [
    "re.sub(r't.*a','X',sentence,count=1)"
   ]
  },
  {
   "cell_type": "code",
   "execution_count": 9,
   "metadata": {},
   "outputs": [
    {
     "output_type": "execute_result",
     "data": {
      "text/plain": "&#39;sXr&#39;"
     },
     "metadata": {},
     "execution_count": 9
    }
   ],
   "source": [
    "re.sub(r't.*a','X','star',count=1)"
   ]
  },
  {
   "cell_type": "code",
   "execution_count": 10,
   "metadata": {},
   "outputs": [
    {
     "output_type": "execute_result",
     "data": {
      "text/plain": "&#39;Xabricated tale&#39;"
     },
     "metadata": {},
     "execution_count": 10
    }
   ],
   "source": [
    "re.sub(r't.*a.*q.*f','X',sentence,count=1)"
   ]
  },
  {
   "cell_type": "code",
   "execution_count": 11,
   "metadata": {},
   "outputs": [
    {
     "output_type": "execute_result",
     "data": {
      "text/plain": "&#39;Xite a fabricated tale&#39;"
     },
     "metadata": {},
     "execution_count": 11
    }
   ],
   "source": [
    "re.sub(r't.*a.*u','X',sentence,count=1)"
   ]
  },
  {
   "cell_type": "code",
   "execution_count": 12,
   "metadata": {},
   "outputs": [
    {
     "output_type": "execute_result",
     "data": {
      "text/plain": "&#39;Xot&#39;"
     },
     "metadata": {},
     "execution_count": 12
    }
   ],
   "source": [
    "# Non greedy quantifiers\n",
    "re.sub(r'f.??o','X','foot',count=1)"
   ]
  },
  {
   "cell_type": "code",
   "execution_count": 13,
   "metadata": {},
   "outputs": [
    {
     "output_type": "execute_result",
     "data": {
      "text/plain": "&#39;Xst&#39;"
     },
     "metadata": {},
     "execution_count": 13
    }
   ],
   "source": [
    "re.sub(r'f.??o','X','frost',count=1)"
   ]
  },
  {
   "cell_type": "code",
   "execution_count": 15,
   "metadata": {},
   "outputs": [
    {
     "output_type": "execute_result",
     "data": {
      "text/plain": "&#39;X3456789&#39;"
     },
     "metadata": {},
     "execution_count": 15
    }
   ],
   "source": [
    "re.sub(r'.{2,5}?','X','123456789',count=1)"
   ]
  },
  {
   "cell_type": "code",
   "execution_count": 18,
   "metadata": {},
   "outputs": [
    {
     "output_type": "execute_result",
     "data": {
      "text/plain": "[&#39; green&#39;, &#39;teal&#39;, &#39;brown&#39;, &#39;blue&#39;]"
     },
     "metadata": {},
     "execution_count": 18
    }
   ],
   "source": [
    "re.split(r':.*?:',\" green:3.14:teal::brown:oh!:blue\")"
   ]
  },
  {
   "cell_type": "code",
   "execution_count": 19,
   "metadata": {},
   "outputs": [],
   "source": [
    "sentence = 'that is quite a fabricated tale'"
   ]
  },
  {
   "cell_type": "code",
   "execution_count": 20,
   "metadata": {},
   "outputs": [
    {
     "output_type": "execute_result",
     "data": {
      "text/plain": "&#39;Xt is quite a fabricated tale&#39;"
     },
     "metadata": {},
     "execution_count": 20
    }
   ],
   "source": [
    "re.sub(r't.*?a','X',sentence,count=1)"
   ]
  },
  {
   "cell_type": "code",
   "execution_count": 21,
   "metadata": {},
   "outputs": [
    {
     "output_type": "execute_result",
     "data": {
      "text/plain": "&#39;Xabricated tale&#39;"
     },
     "metadata": {},
     "execution_count": 21
    }
   ],
   "source": [
    "re.sub(r't.*?a.*?f','X',sentence,count=1)"
   ]
  },
  {
   "cell_type": "code",
   "execution_count": 23,
   "metadata": {},
   "outputs": [
    {
     "output_type": "execute_result",
     "data": {
      "text/plain": "&#39;a+8-c pressure*3+8-14256&#39;"
     },
     "metadata": {},
     "execution_count": 23
    }
   ],
   "source": [
    "# Exercise\n",
    "# Problem 1\n",
    "ip = 'a+42//5-c pressure*3+42/5-14256'\n",
    "re.sub(r'42\\/.*?5','8',ip)"
   ]
  },
  {
   "cell_type": "code",
   "execution_count": 24,
   "metadata": {},
   "outputs": [],
   "source": [
    "# Problem 2\n",
    "items = ['handed','hand','handled','handy','unhand','hands','handle']\n"
   ]
  },
  {
   "cell_type": "code",
   "execution_count": 38,
   "metadata": {},
   "outputs": [
    {
     "output_type": "execute_result",
     "data": {
      "text/plain": "[&#39;hand&#39;, &#39;handy&#39;, &#39;hands&#39;, &#39;handle&#39;]"
     },
     "metadata": {},
     "execution_count": 38
    }
   ],
   "source": [
    "[w for w in items if re.fullmatch(r'hand(.|le)?',w)]"
   ]
  },
  {
   "cell_type": "code",
   "execution_count": 39,
   "metadata": {},
   "outputs": [],
   "source": [
    "# Problem 3\n",
    "eqn1 = 'a+42//5-c'\n",
    "eqn2 = 'pressure*3+42/5-14256'\n",
    "eqn3 = 'r*42-5/3+42///5-42/53+a'"
   ]
  },
  {
   "cell_type": "code",
   "execution_count": 40,
   "metadata": {},
   "outputs": [
    {
     "output_type": "execute_result",
     "data": {
      "text/plain": "[&#39;a+&#39;, &#39;-c&#39;]"
     },
     "metadata": {},
     "execution_count": 40
    }
   ],
   "source": [
    "re.split(r'42//5',eqn1)"
   ]
  },
  {
   "cell_type": "code",
   "execution_count": 41,
   "metadata": {},
   "outputs": [
    {
     "output_type": "execute_result",
     "data": {
      "text/plain": "[&#39;pressure*3+&#39;, &#39;-14256&#39;]"
     },
     "metadata": {},
     "execution_count": 41
    }
   ],
   "source": [
    "re.split(r'42/5',eqn2)"
   ]
  },
  {
   "cell_type": "code",
   "execution_count": 43,
   "metadata": {},
   "outputs": [
    {
     "output_type": "execute_result",
     "data": {
      "text/plain": "[&#39;r*42-5/3+42///5-&#39;, &#39;3+a&#39;]"
     },
     "metadata": {},
     "execution_count": 43
    }
   ],
   "source": [
    "re.split(r'42/5',eqn3)"
   ]
  },
  {
   "cell_type": "code",
   "execution_count": 44,
   "metadata": {},
   "outputs": [],
   "source": [
    "# Problem 4\n",
    "s1 = 'remove the special meaning of such constructs'\n",
    "s2 = 'characters while constructing'\n",
    "pat = re.compile(r'i+')"
   ]
  },
  {
   "cell_type": "code",
   "execution_count": 47,
   "metadata": {},
   "outputs": [
    {
     "output_type": "execute_result",
     "data": {
      "text/plain": "&#39;remove the spec&#39;"
     },
     "metadata": {},
     "execution_count": 47
    }
   ],
   "source": [
    "pat.sub('',s1)"
   ]
  },
  {
   "cell_type": "code",
   "execution_count": 48,
   "metadata": {},
   "outputs": [
    {
     "output_type": "execute_result",
     "data": {
      "text/plain": "&#39;characters wh&#39;"
     },
     "metadata": {},
     "execution_count": 48
    }
   ],
   "source": [
    "pat.sub('',s2)"
   ]
  },
  {
   "cell_type": "code",
   "execution_count": 56,
   "metadata": {},
   "outputs": [],
   "source": [
    "# Problem 5\n",
    "str1 = 'a+b(addition)'\n",
    "str2 = 'a/b(division) + c%d(#modulo)'\n",
    "str3 = 'Hi there(greeting). Nice day(a(b)'\n",
    "\n",
    "remove_parentheses = re.compile(r'\\(.*?\\)')"
   ]
  },
  {
   "cell_type": "code",
   "execution_count": 57,
   "metadata": {},
   "outputs": [
    {
     "output_type": "execute_result",
     "data": {
      "text/plain": "&#39;a+b&#39;"
     },
     "metadata": {},
     "execution_count": 57
    }
   ],
   "source": [
    "remove_parentheses.sub('',str1)"
   ]
  },
  {
   "cell_type": "code",
   "execution_count": 58,
   "metadata": {},
   "outputs": [
    {
     "output_type": "execute_result",
     "data": {
      "text/plain": "&#39;a/b + c%d&#39;"
     },
     "metadata": {},
     "execution_count": 58
    }
   ],
   "source": [
    "remove_parentheses.sub('',str2)"
   ]
  },
  {
   "cell_type": "code",
   "execution_count": 59,
   "metadata": {},
   "outputs": [
    {
     "output_type": "execute_result",
     "data": {
      "text/plain": "&#39;Hi there. Nice day&#39;"
     },
     "metadata": {},
     "execution_count": 59
    }
   ],
   "source": [
    "remove_parentheses.sub('',str3)"
   ]
  },
  {
   "cell_type": "code",
   "execution_count": 74,
   "metadata": {},
   "outputs": [],
   "source": [
    "# Problem 6\n",
    "words = 'plink incoming tint winter in caution sentient'\n",
    "change = re.compile(r'io?n(k|co|g|ter|t)?')"
   ]
  },
  {
   "cell_type": "code",
   "execution_count": 75,
   "metadata": {},
   "outputs": [
    {
     "output_type": "execute_result",
     "data": {
      "text/plain": "&#39;plX XmX tX wX X cautX sentient&#39;"
     },
     "metadata": {},
     "execution_count": 75
    }
   ],
   "source": [
    "change.sub('X',words)"
   ]
  },
  {
   "cell_type": "code",
   "execution_count": 76,
   "metadata": {},
   "outputs": [],
   "source": [
    "# Problem 9\n",
    "s1 = 'this is a Test'\n",
    "s2 = 'always test your RE for corner cases'\n",
    "s3 = 'a Test of skill tests?'\n",
    "\n",
    "pat = re.compile(r'test.+?$',flags=re.IGNORECASE)"
   ]
  },
  {
   "cell_type": "code",
   "execution_count": 77,
   "metadata": {},
   "outputs": [
    {
     "output_type": "execute_result",
     "data": {
      "text/plain": "&#39;this is a Test&#39;"
     },
     "metadata": {},
     "execution_count": 77
    }
   ],
   "source": [
    "pat.sub('',s1)"
   ]
  },
  {
   "cell_type": "code",
   "execution_count": 78,
   "metadata": {},
   "outputs": [
    {
     "output_type": "execute_result",
     "data": {
      "text/plain": "&#39;always &#39;"
     },
     "metadata": {},
     "execution_count": 78
    }
   ],
   "source": [
    "pat.sub('',s2)"
   ]
  },
  {
   "cell_type": "code",
   "execution_count": 79,
   "metadata": {},
   "outputs": [
    {
     "output_type": "execute_result",
     "data": {
      "text/plain": "&#39;a &#39;"
     },
     "metadata": {},
     "execution_count": 79
    }
   ],
   "source": [
    "pat.sub('',s3)"
   ]
  },
  {
   "cell_type": "code",
   "execution_count": 81,
   "metadata": {},
   "outputs": [
    {
     "output_type": "execute_result",
     "data": {
      "text/plain": "[&#39;subtle&#39;, &#39;sets&#39;, &#39;site&#39;]"
     },
     "metadata": {},
     "execution_count": 81
    }
   ],
   "source": [
    "# Problem 10\n",
    "words = ['sequoia','subtle','exhibit','asset','sets','tests','site']\n",
    "[w for w in words if re.search(r'\\As.*(e.*t|t.*e)',w)]"
   ]
  },
  {
   "cell_type": "code",
   "execution_count": 89,
   "metadata": {},
   "outputs": [
    {
     "output_type": "execute_result",
     "data": {
      "text/plain": "[&#39;sequoia&#39;, &#39;subtle&#39;, &#39;exhibit&#39;]"
     },
     "metadata": {},
     "execution_count": 89
    }
   ],
   "source": [
    "# Problem 11\n",
    "words = ['sequoia','subtle','exhibit','asset','sets','tests','site']\n",
    "[w for w in words if re.search(r'.{6,}',w)]"
   ]
  },
  {
   "cell_type": "code",
   "execution_count": 88,
   "metadata": {},
   "outputs": [
    {
     "output_type": "execute_result",
     "data": {
      "text/plain": "[&#39;subtle&#39;, &#39;sets&#39;, &#39;tests&#39;, &#39;site&#39;]"
     },
     "metadata": {},
     "execution_count": 88
    }
   ],
   "source": [
    "# Problem 12\n",
    "words = ['sequoia','subtle','exhibit','asset','sets','tests','site']\n",
    "[w for w in words if re.search(r'^(s|t).{,5}$',w)]"
   ]
  },
  {
   "cell_type": "code",
   "execution_count": 91,
   "metadata": {},
   "outputs": [
    {
     "output_type": "execute_result",
     "data": {
      "text/plain": "&#39;a 1&lt;&gt; b 2&lt;&gt; c&#39;"
     },
     "metadata": {},
     "execution_count": 91
    }
   ],
   "source": [
    "# Problem 13\n",
    "ip = 'a<apple> 1<> b<bye> 2<> c<cat>'\n",
    "re.sub(r'<\\w+?>','',ip)"
   ]
  },
  {
   "cell_type": "code",
   "execution_count": 99,
   "metadata": {},
   "outputs": [],
   "source": [
    "# Problem 14\n",
    "s1 = 'go there  //  \"this // that\"'\n",
    "s2 = 'a//b // c//d e//f // 4//5'\n",
    "s3 = '42// hi//bye//see // carefully'\n",
    "\n",
    "pat = re.compile(r' +// +')"
   ]
  },
  {
   "cell_type": "code",
   "execution_count": 100,
   "metadata": {},
   "outputs": [
    {
     "output_type": "execute_result",
     "data": {
      "text/plain": "[&#39;go there&#39;, &#39;&quot;this&#39;, &#39;that&quot;&#39;]"
     },
     "metadata": {},
     "execution_count": 100
    }
   ],
   "source": [
    "pat.split(s1)"
   ]
  },
  {
   "cell_type": "code",
   "execution_count": 101,
   "metadata": {},
   "outputs": [
    {
     "output_type": "execute_result",
     "data": {
      "text/plain": "[&#39;a//b&#39;, &#39;c//d e//f&#39;, &#39;4//5&#39;]"
     },
     "metadata": {},
     "execution_count": 101
    }
   ],
   "source": [
    "pat.split(s2)"
   ]
  },
  {
   "cell_type": "code",
   "execution_count": 102,
   "metadata": {},
   "outputs": [
    {
     "output_type": "execute_result",
     "data": {
      "text/plain": "[&#39;42// hi//bye//see&#39;, &#39;carefully&#39;]"
     },
     "metadata": {},
     "execution_count": 102
    }
   ],
   "source": [
    "pat.split(s3)"
   ]
  },
  {
   "cell_type": "code",
   "execution_count": null,
   "metadata": {},
   "outputs": [],
   "source": []
  }
 ]
}